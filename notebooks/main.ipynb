{
 "cells": [
  {
   "cell_type": "code",
   "execution_count": 1,
   "id": "664bd94f-0b5e-4cba-b605-b0ef7efdef23",
   "metadata": {},
   "outputs": [],
   "source": [
    "import numpy as np\n",
    "import pandas as pd\n",
    "\n",
    "import sys\n",
    "import os\n",
    "sys.path.append(os.path.abspath('..'))\n",
    "\n",
    "from src.feature_generation import FeatureGenerator\n",
    "\n",
    "from catboost import CatBoostClassifier\n",
    "from sklearn.metrics import ndcg_score, roc_auc_score\n",
    "from sklearn.model_selection import train_test_split\n",
    "\n",
    "from scipy.sparse import coo_matrix\n",
    "from scipy.sparse.linalg import svds\n",
    "\n",
    "pd.set_option('display.max_columns', 50)"
   ]
  },
  {
   "cell_type": "code",
   "execution_count": 2,
   "id": "4c7ee42e-7ea3-4035-9dfa-50ce5fab0097",
   "metadata": {},
   "outputs": [],
   "source": [
    "train = pd.read_csv('../data/train.csv')\n",
    "test = pd.read_csv('../data/test.csv')\n",
    "sample_submission = pd.read_csv(r'../data/sample_submission.csv')\n",
    "\n",
    "members = pd.read_csv('../data/members.csv')\n",
    "songs = pd.read_csv('../data/songs.csv')\n",
    "# song_extra_info = pd.read_csv('../data/song_extra_info.csv')"
   ]
  },
  {
   "cell_type": "markdown",
   "id": "bcbb5b7f-c37b-4d26-8421-375b7d88109d",
   "metadata": {},
   "source": [
    "## Предобработка\n",
    "В FeatureGenerator cоздаются следующие переменные:\n",
    "1) Target-encoding переменные\n",
    "2) User и item фичи полученные через SVD разложение user_item матрицы\n",
    "3) Условные вероятности, например вероятность прослуживания пользователем жанра"
   ]
  },
  {
   "cell_type": "code",
   "execution_count": 3,
   "id": "a0ab9e05-49dd-4dbb-8e54-cd5fd887ed3b",
   "metadata": {},
   "outputs": [
    {
     "data": {
      "text/html": [
       "<div>\n",
       "<style scoped>\n",
       "    .dataframe tbody tr th:only-of-type {\n",
       "        vertical-align: middle;\n",
       "    }\n",
       "\n",
       "    .dataframe tbody tr th {\n",
       "        vertical-align: top;\n",
       "    }\n",
       "\n",
       "    .dataframe thead th {\n",
       "        text-align: right;\n",
       "    }\n",
       "</style>\n",
       "<table border=\"1\" class=\"dataframe\">\n",
       "  <thead>\n",
       "    <tr style=\"text-align: right;\">\n",
       "      <th></th>\n",
       "      <th>msno</th>\n",
       "      <th>song_id</th>\n",
       "      <th>source_system_tab</th>\n",
       "      <th>source_screen_name</th>\n",
       "      <th>source_type</th>\n",
       "      <th>target</th>\n",
       "      <th>song_length</th>\n",
       "      <th>genre_ids</th>\n",
       "      <th>artist_name</th>\n",
       "      <th>composer</th>\n",
       "      <th>lyricist</th>\n",
       "      <th>language</th>\n",
       "      <th>target_artist</th>\n",
       "      <th>target_composer</th>\n",
       "      <th>target_lyricist</th>\n",
       "      <th>source_system_tab_probability</th>\n",
       "      <th>source_screen_name_probability</th>\n",
       "      <th>source_type_probability</th>\n",
       "      <th>genre_ids_probability</th>\n",
       "      <th>artist_name_probability</th>\n",
       "      <th>composer_probability</th>\n",
       "      <th>lyricist_probability</th>\n",
       "      <th>language_probability</th>\n",
       "      <th>source_system_tab_probability_song</th>\n",
       "      <th>source_screen_name_probability_song</th>\n",
       "      <th>...</th>\n",
       "      <th>15_x</th>\n",
       "      <th>16_x</th>\n",
       "      <th>17_x</th>\n",
       "      <th>18_x</th>\n",
       "      <th>19_x</th>\n",
       "      <th>0_y</th>\n",
       "      <th>1_y</th>\n",
       "      <th>2_y</th>\n",
       "      <th>3_y</th>\n",
       "      <th>4_y</th>\n",
       "      <th>5_y</th>\n",
       "      <th>6_y</th>\n",
       "      <th>7_y</th>\n",
       "      <th>8_y</th>\n",
       "      <th>9_y</th>\n",
       "      <th>10_y</th>\n",
       "      <th>11_y</th>\n",
       "      <th>12_y</th>\n",
       "      <th>13_y</th>\n",
       "      <th>14_y</th>\n",
       "      <th>15_y</th>\n",
       "      <th>16_y</th>\n",
       "      <th>17_y</th>\n",
       "      <th>18_y</th>\n",
       "      <th>19_y</th>\n",
       "    </tr>\n",
       "  </thead>\n",
       "  <tbody>\n",
       "    <tr>\n",
       "      <th>0</th>\n",
       "      <td>FGtllVqz18RPiwJj/edr2gV78zirAiY/9SmYvia+kCg=</td>\n",
       "      <td>BBzumQNXUHKdEBOB7mAJuzok+IJA1c2Ryg/yzTF6tik=</td>\n",
       "      <td>explore</td>\n",
       "      <td>Explore</td>\n",
       "      <td>online-playlist</td>\n",
       "      <td>1</td>\n",
       "      <td>206471.0</td>\n",
       "      <td>359</td>\n",
       "      <td>Bastille</td>\n",
       "      <td>Dan Smith| Mark Crew</td>\n",
       "      <td>NaN</td>\n",
       "      <td>52.0</td>\n",
       "      <td>0.463158</td>\n",
       "      <td>0.49499</td>\n",
       "      <td>NaN</td>\n",
       "      <td>0.161132</td>\n",
       "      <td>0.122301</td>\n",
       "      <td>0.25930</td>\n",
       "      <td>0.029577</td>\n",
       "      <td>0.000544</td>\n",
       "      <td>0.000363</td>\n",
       "      <td>0.0</td>\n",
       "      <td>0.530938</td>\n",
       "      <td>0.018605</td>\n",
       "      <td>0.009302</td>\n",
       "      <td>...</td>\n",
       "      <td>6.562958</td>\n",
       "      <td>-5.224060</td>\n",
       "      <td>9.178658</td>\n",
       "      <td>-3.288150</td>\n",
       "      <td>23.121849</td>\n",
       "      <td>0.002763</td>\n",
       "      <td>-0.003956</td>\n",
       "      <td>-0.003529</td>\n",
       "      <td>-0.006336</td>\n",
       "      <td>-0.003363</td>\n",
       "      <td>0.002412</td>\n",
       "      <td>-0.002755</td>\n",
       "      <td>-0.003791</td>\n",
       "      <td>-0.003431</td>\n",
       "      <td>0.007523</td>\n",
       "      <td>-0.011094</td>\n",
       "      <td>-0.004392</td>\n",
       "      <td>-0.001807</td>\n",
       "      <td>0.004514</td>\n",
       "      <td>-0.003239</td>\n",
       "      <td>0.003841</td>\n",
       "      <td>-0.001198</td>\n",
       "      <td>0.004246</td>\n",
       "      <td>-0.004608</td>\n",
       "      <td>0.002201</td>\n",
       "    </tr>\n",
       "    <tr>\n",
       "      <th>1</th>\n",
       "      <td>Xumu+NIjS6QYVxDS4/t3SawvJ7viT9hPKXmf0RtLNx8=</td>\n",
       "      <td>bhp/MpSNoqoxOIB+/l8WPqu6jldth4DIpCm3ayXnJqM=</td>\n",
       "      <td>my library</td>\n",
       "      <td>Local playlist more</td>\n",
       "      <td>local-playlist</td>\n",
       "      <td>1</td>\n",
       "      <td>284584.0</td>\n",
       "      <td>1259</td>\n",
       "      <td>Various Artists</td>\n",
       "      <td>NaN</td>\n",
       "      <td>NaN</td>\n",
       "      <td>52.0</td>\n",
       "      <td>0.509851</td>\n",
       "      <td>NaN</td>\n",
       "      <td>NaN</td>\n",
       "      <td>0.885852</td>\n",
       "      <td>0.885852</td>\n",
       "      <td>0.21865</td>\n",
       "      <td>0.067524</td>\n",
       "      <td>0.038585</td>\n",
       "      <td>0.000000</td>\n",
       "      <td>0.0</td>\n",
       "      <td>0.183280</td>\n",
       "      <td>1.000000</td>\n",
       "      <td>1.000000</td>\n",
       "      <td>...</td>\n",
       "      <td>-1.152435</td>\n",
       "      <td>0.115976</td>\n",
       "      <td>4.304136</td>\n",
       "      <td>3.096813</td>\n",
       "      <td>9.598484</td>\n",
       "      <td>0.000010</td>\n",
       "      <td>0.000083</td>\n",
       "      <td>-0.000009</td>\n",
       "      <td>0.000002</td>\n",
       "      <td>-0.000040</td>\n",
       "      <td>-0.000043</td>\n",
       "      <td>0.000107</td>\n",
       "      <td>0.000043</td>\n",
       "      <td>-0.000024</td>\n",
       "      <td>-0.000026</td>\n",
       "      <td>-0.000012</td>\n",
       "      <td>-0.000043</td>\n",
       "      <td>0.000014</td>\n",
       "      <td>-0.000082</td>\n",
       "      <td>0.000024</td>\n",
       "      <td>-0.000021</td>\n",
       "      <td>0.000002</td>\n",
       "      <td>0.000045</td>\n",
       "      <td>0.000025</td>\n",
       "      <td>0.000011</td>\n",
       "    </tr>\n",
       "  </tbody>\n",
       "</table>\n",
       "<p>2 rows × 66 columns</p>\n",
       "</div>"
      ],
      "text/plain": [
       "                                           msno  \\\n",
       "0  FGtllVqz18RPiwJj/edr2gV78zirAiY/9SmYvia+kCg=   \n",
       "1  Xumu+NIjS6QYVxDS4/t3SawvJ7viT9hPKXmf0RtLNx8=   \n",
       "\n",
       "                                        song_id source_system_tab  \\\n",
       "0  BBzumQNXUHKdEBOB7mAJuzok+IJA1c2Ryg/yzTF6tik=           explore   \n",
       "1  bhp/MpSNoqoxOIB+/l8WPqu6jldth4DIpCm3ayXnJqM=        my library   \n",
       "\n",
       "    source_screen_name      source_type  target  song_length genre_ids  \\\n",
       "0              Explore  online-playlist       1     206471.0       359   \n",
       "1  Local playlist more   local-playlist       1     284584.0      1259   \n",
       "\n",
       "       artist_name              composer lyricist  language  target_artist  \\\n",
       "0         Bastille  Dan Smith| Mark Crew      NaN      52.0       0.463158   \n",
       "1  Various Artists                   NaN      NaN      52.0       0.509851   \n",
       "\n",
       "   target_composer  target_lyricist  source_system_tab_probability  \\\n",
       "0          0.49499              NaN                       0.161132   \n",
       "1              NaN              NaN                       0.885852   \n",
       "\n",
       "   source_screen_name_probability  source_type_probability  \\\n",
       "0                        0.122301                  0.25930   \n",
       "1                        0.885852                  0.21865   \n",
       "\n",
       "   genre_ids_probability  artist_name_probability  composer_probability  \\\n",
       "0               0.029577                 0.000544              0.000363   \n",
       "1               0.067524                 0.038585              0.000000   \n",
       "\n",
       "   lyricist_probability  language_probability  \\\n",
       "0                   0.0              0.530938   \n",
       "1                   0.0              0.183280   \n",
       "\n",
       "   source_system_tab_probability_song  source_screen_name_probability_song  \\\n",
       "0                            0.018605                             0.009302   \n",
       "1                            1.000000                             1.000000   \n",
       "\n",
       "   ...      15_x      16_x      17_x      18_x       19_x       0_y       1_y  \\\n",
       "0  ...  6.562958 -5.224060  9.178658 -3.288150  23.121849  0.002763 -0.003956   \n",
       "1  ... -1.152435  0.115976  4.304136  3.096813   9.598484  0.000010  0.000083   \n",
       "\n",
       "        2_y       3_y       4_y       5_y       6_y       7_y       8_y  \\\n",
       "0 -0.003529 -0.006336 -0.003363  0.002412 -0.002755 -0.003791 -0.003431   \n",
       "1 -0.000009  0.000002 -0.000040 -0.000043  0.000107  0.000043 -0.000024   \n",
       "\n",
       "        9_y      10_y      11_y      12_y      13_y      14_y      15_y  \\\n",
       "0  0.007523 -0.011094 -0.004392 -0.001807  0.004514 -0.003239  0.003841   \n",
       "1 -0.000026 -0.000012 -0.000043  0.000014 -0.000082  0.000024 -0.000021   \n",
       "\n",
       "       16_y      17_y      18_y      19_y  \n",
       "0 -0.001198  0.004246 -0.004608  0.002201  \n",
       "1  0.000002  0.000045  0.000025  0.000011  \n",
       "\n",
       "[2 rows x 66 columns]"
      ]
     },
     "execution_count": 3,
     "metadata": {},
     "output_type": "execute_result"
    }
   ],
   "source": [
    "feature_generator = FeatureGenerator(train, songs)\n",
    "\n",
    "train = feature_generator.fit_transform(train)\n",
    "test = feature_generator.transform(test)\n",
    "train.head(2)"
   ]
  },
  {
   "cell_type": "code",
   "execution_count": 4,
   "id": "fe85214c-7f7a-4c01-a061-73bbd5416020",
   "metadata": {},
   "outputs": [],
   "source": [
    "cat_features = ['source_system_tab', 'source_screen_name', 'source_type', 'language']\n",
    "svd_features = ['0_x', '1_x', '2_x', '3_x', '4_x', '5_x', '6_x', '7_x', '8_x', '9_x',\n",
    "                '10_x', '11_x', '12_x', '13_x', '14_x', '15_x', '16_x', '17_x', '18_x',\n",
    "                '19_x', '0_y', '1_y', '2_y', '3_y', '4_y', '5_y', '6_y', '7_y', '8_y',\n",
    "                '9_y', '10_y', '11_y', '12_y', '13_y', '14_y', '15_y', '16_y', '17_y',\n",
    "                '18_y', '19_y']\n",
    "train_features = ['song_length', 'target_artist', 'target_composer',\n",
    "                  'target_lyricist', 'source_system_tab_probability',\n",
    "                  'source_screen_name_probability', 'source_type_probability',\n",
    "                  'genre_ids_probability', 'artist_name_probability',\n",
    "                  'composer_probability', 'lyricist_probability',\n",
    "                  'language_probability', 'source_system_tab_probability_song',\n",
    "                  'source_screen_name_probability_song', 'source_type_probability_song']\n",
    "train_features += svd_features + cat_features\n",
    "\n",
    "train['language'] = train['language'].map(str)\n",
    "train[cat_features] = train[cat_features].fillna('nan')\n",
    "test['language'] = test['language'].map(str)\n",
    "test[cat_features] = test[cat_features].fillna('nan')"
   ]
  },
  {
   "cell_type": "markdown",
   "id": "480d6fd1-1c13-439c-badc-5daf961194d0",
   "metadata": {},
   "source": [
    "## Training"
   ]
  },
  {
   "cell_type": "code",
   "execution_count": 5,
   "id": "39dae90e-033c-4c39-bd08-458584c373ba",
   "metadata": {},
   "outputs": [],
   "source": [
    "train_set, val_set = train_test_split(train, test_size = 0.2, random_state=36)"
   ]
  },
  {
   "cell_type": "code",
   "execution_count": 6,
   "id": "c3d3e924-7a07-4207-a5fa-8b4987c770c2",
   "metadata": {},
   "outputs": [],
   "source": [
    "model = CatBoostClassifier(\n",
    "    n_estimators=700,\n",
    "    random_seed=12,\n",
    "    verbose = 0\n",
    ").fit(train_set[train_features],\n",
    "      train_set['target'],\n",
    "      cat_features = cat_features)"
   ]
  },
  {
   "cell_type": "code",
   "execution_count": 7,
   "id": "b348b09e-0d75-409e-a344-a1f33c78410d",
   "metadata": {},
   "outputs": [
    {
     "data": {
      "text/plain": [
       "0.7936462311252559"
      ]
     },
     "execution_count": 7,
     "metadata": {},
     "output_type": "execute_result"
    }
   ],
   "source": [
    "# ROS-AUC\n",
    "val_set['predict'] = model.predict_proba(val_set[train_features])[:, 1]\n",
    "roc_auc_score(val_set['target'], val_set['predict'])"
   ]
  },
  {
   "cell_type": "code",
   "execution_count": 8,
   "id": "46015f39-bda5-4bbd-932c-cfb1427c27ce",
   "metadata": {},
   "outputs": [
    {
     "data": {
      "text/plain": [
       "0.7823310604084982"
      ]
     },
     "execution_count": 8,
     "metadata": {},
     "output_type": "execute_result"
    }
   ],
   "source": [
    "# nDCG\n",
    "score = val_set.groupby('msno').apply(\n",
    "    lambda x: (float('nan') if len(x) < 2 else\n",
    "               ndcg_score(x['target'].values.reshape(1, -1),\n",
    "                          x['predict'].values.reshape(1, -1)))\n",
    ").mean()\n",
    "score"
   ]
  },
  {
   "cell_type": "code",
   "execution_count": 9,
   "id": "24dda747-8316-4c46-9331-d74a9460d09e",
   "metadata": {},
   "outputs": [],
   "source": [
    "sample_submission['target'] = model.predict_proba(test[train_features])[:, 1]"
   ]
  },
  {
   "cell_type": "code",
   "execution_count": 10,
   "id": "0f355570-290a-4ae3-a3ad-33a215044949",
   "metadata": {},
   "outputs": [
    {
     "data": {
      "text/plain": [
       "'../predictions/pred8.csv'"
      ]
     },
     "execution_count": 10,
     "metadata": {},
     "output_type": "execute_result"
    }
   ],
   "source": [
    "def save(df, pattern='../predictions/pred{}.csv', start_index=1):\n",
    "    index = start_index\n",
    "    while os.path.exists(pattern.format(index)):\n",
    "        index += 1\n",
    "    df.to_csv(pattern.format(index), index=False)\n",
    "    return pattern.format(index)\n",
    "save(sample_submission)"
   ]
  },
  {
   "cell_type": "markdown",
   "id": "e77254af-9fcf-41c2-9708-9ce1e08f4669",
   "metadata": {},
   "source": [
    "## Public score: 0.65"
   ]
  }
 ],
 "metadata": {
  "kernelspec": {
   "display_name": "Python 3 (ipykernel)",
   "language": "python",
   "name": "python3"
  },
  "language_info": {
   "codemirror_mode": {
    "name": "ipython",
    "version": 3
   },
   "file_extension": ".py",
   "mimetype": "text/x-python",
   "name": "python",
   "nbconvert_exporter": "python",
   "pygments_lexer": "ipython3",
   "version": "3.11.5"
  }
 },
 "nbformat": 4,
 "nbformat_minor": 5
}
