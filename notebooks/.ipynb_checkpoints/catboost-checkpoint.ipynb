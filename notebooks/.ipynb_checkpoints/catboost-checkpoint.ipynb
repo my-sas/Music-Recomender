{
 "cells": [
  {
   "cell_type": "code",
   "execution_count": 1,
   "id": "664bd94f-0b5e-4cba-b605-b0ef7efdef23",
   "metadata": {},
   "outputs": [],
   "source": [
    "import numpy as np\n",
    "import pandas as pd\n",
    "import os\n",
    "\n",
    "from catboost import CatBoostClassifier\n",
    "from sklearn.metrics import ndcg_score, roc_auc_score\n",
    "from sklearn.model_selection import train_test_split"
   ]
  },
  {
   "cell_type": "code",
   "execution_count": 2,
   "id": "4c7ee42e-7ea3-4035-9dfa-50ce5fab0097",
   "metadata": {},
   "outputs": [],
   "source": [
    "train = pd.read_csv('../data/train.csv')\n",
    "test = pd.read_csv('../data/test.csv')\n",
    "sample_submission = pd.read_csv(r'../data/sample_submission.csv')\n",
    "\n",
    "members = pd.read_csv('../data/members.csv')\n",
    "songs = pd.read_csv('../data/songs.csv')\n",
    "song_extra_info = pd.read_csv('../data/song_extra_info.csv')"
   ]
  },
  {
   "cell_type": "markdown",
   "id": "bcbb5b7f-c37b-4d26-8421-375b7d88109d",
   "metadata": {},
   "source": [
    "## Предобработка"
   ]
  },
  {
   "cell_type": "code",
   "execution_count": 3,
   "id": "8247bd9c-a586-45c7-82ad-a276f697c146",
   "metadata": {},
   "outputs": [],
   "source": [
    "class FeatureGenerator:\n",
    "    def __init__(self):\n",
    "        self.artist_target = None\n",
    "        self.composer_target = None\n",
    "        self.lyricist_target = None\n",
    "        self.total_counts = None\n",
    "        self.genre_counts = None\n",
    "        self.tab_counts = None\n",
    "        self.screen_counts = None\n",
    "    def fit_transform(self, df):\n",
    "        df.copy()\n",
    "        df = pd.merge(df, songs, on='song_id', how='left')\n",
    "        \n",
    "        self.artist_target = df.groupby('artist_name').agg({'target': 'mean'}) \\\n",
    "            .rename(columns={'target': 'target_artist'}).reset_index()\n",
    "        self.composer_target = df.groupby('composer').agg({'target': 'mean'}) \\\n",
    "            .rename(columns={'target': 'target_composer'}).reset_index()\n",
    "        self.lyricist_target = df.groupby('lyricist').agg({'target': 'mean'}) \\\n",
    "            .rename(columns={'target': 'target_lyricist'}).reset_index()\n",
    "        \n",
    "        df = pd.merge(df, self.artist_target, on='artist_name', how='left')\n",
    "        df = pd.merge(df, self.composer_target, on='composer', how='left')\n",
    "        df = pd.merge(df, self.lyricist_target, on='lyricist', how='left')\n",
    "\n",
    "        self.total_counts = df.groupby('msno').size().reset_index(name='count')\n",
    "        \n",
    "        self.genre_counts = df.groupby(['msno', 'genre_ids']).size().reset_index(name='genre_count')\n",
    "        self.genre_counts = pd.merge(self.genre_counts, self.total_counts, on='msno')\n",
    "        self.genre_counts['genre_probability'] = self.genre_counts['genre_count'] / self.genre_counts['count']\n",
    "        self.genre_counts = self.genre_counts.drop(['genre_count', 'count'], axis=1)\n",
    "        df = pd.merge(df, self.genre_counts, on=['msno', 'genre_ids'], how='left')\n",
    "        df['genre_probability'] = df['genre_probability'].fillna(0)\n",
    "\n",
    "        self.tab_counts = df.groupby(['msno', 'source_system_tab']).size().reset_index(name='tab_count')\n",
    "        self.tab_counts = pd.merge(self.tab_counts, self.total_counts, on='msno')\n",
    "        self.tab_counts['tab_probability'] = self.tab_counts['tab_count'] / self.tab_counts['count']\n",
    "        self.tab_counts = self.tab_counts.drop(['tab_count', 'count'], axis=1)\n",
    "        df = pd.merge(df, self.tab_counts, on=['msno', 'source_system_tab'], how='left')\n",
    "        df['tab_probability'] = df['tab_probability'].fillna(0)\n",
    "\n",
    "        self.screen_counts = df.groupby(['msno', 'source_screen_name']).size().reset_index(name='screen_count')\n",
    "        self.screen_counts = pd.merge(self.screen_counts, self.total_counts, on='msno')\n",
    "        self.screen_counts['screen_probability'] = self.screen_counts['screen_count'] / self.screen_counts['count']\n",
    "        self.screen_counts = self.screen_counts.drop(['screen_count', 'count'], axis=1)\n",
    "        df = pd.merge(df, self.screen_counts, on=['msno', 'source_screen_name'], how='left')\n",
    "        df['screen_probability'] = df['screen_probability'].fillna(0)\n",
    "        \n",
    "        return df\n",
    "    def transform(self, df):\n",
    "        df = pd.merge(df, songs, on='song_id', how='left')\n",
    "        df = pd.merge(df, self.artist_target, on='artist_name', how='left')\n",
    "        df = pd.merge(df, self.composer_target, on='composer', how='left')\n",
    "        df = pd.merge(df, self.lyricist_target, on='lyricist', how='left')\n",
    "        \n",
    "        df = pd.merge(df, self.genre_counts, on=['msno', 'genre_ids'], how='left')\n",
    "        df['genre_probability'] = df['genre_probability'].fillna(0)\n",
    "        df = pd.merge(df, self.tab_counts, on=['msno', 'source_system_tab'], how='left')\n",
    "        df['tab_probability'] = df['tab_probability'].fillna(0)\n",
    "        df = pd.merge(df, self.screen_counts, on=['msno', 'source_screen_name'], how='left')\n",
    "        df['screen_probability'] = df['screen_probability'].fillna(0)\n",
    "        return df"
   ]
  },
  {
   "cell_type": "code",
   "execution_count": 4,
   "id": "a0ab9e05-49dd-4dbb-8e54-cd5fd887ed3b",
   "metadata": {},
   "outputs": [],
   "source": [
    "feature_generator = FeatureGenerator()"
   ]
  },
  {
   "cell_type": "code",
   "execution_count": 5,
   "id": "17875f8d-ffcf-413e-8e4d-0d5e489172ba",
   "metadata": {},
   "outputs": [],
   "source": [
    "train = feature_generator.fit_transform(train)\n",
    "test = feature_generator.transform(test)"
   ]
  },
  {
   "cell_type": "code",
   "execution_count": 6,
   "id": "fe85214c-7f7a-4c01-a061-73bbd5416020",
   "metadata": {},
   "outputs": [],
   "source": [
    "cat_features = ['source_system_tab', 'source_screen_name', 'source_type', 'language']\n",
    "train_features = cat_features + ['song_length', 'target_artist', 'target_composer', 'target_lyricist']\n",
    "\n",
    "train['language'] = train['language'].map(str)\n",
    "train[cat_features] = train[cat_features].fillna('nan')\n",
    "test['language'] = test['language'].map(str)\n",
    "test[cat_features] = test[cat_features].fillna('nan')"
   ]
  },
  {
   "cell_type": "code",
   "execution_count": null,
   "id": "173c42ff-fb13-4bca-809f-f2c40efbfe6e",
   "metadata": {},
   "outputs": [],
   "source": []
  },
  {
   "cell_type": "code",
   "execution_count": 7,
   "id": "39dae90e-033c-4c39-bd08-458584c373ba",
   "metadata": {},
   "outputs": [],
   "source": [
    "train_set, val_set = train_test_split(train, test_size = 0.2, random_state=36)"
   ]
  },
  {
   "cell_type": "code",
   "execution_count": 8,
   "id": "b042e45d-351c-413e-878a-77eba34fb912",
   "metadata": {},
   "outputs": [],
   "source": [
    "# train_set = train_set.sample(1000000)"
   ]
  },
  {
   "cell_type": "code",
   "execution_count": 9,
   "id": "c3d3e924-7a07-4207-a5fa-8b4987c770c2",
   "metadata": {},
   "outputs": [],
   "source": [
    "model = CatBoostClassifier(\n",
    "    n_estimators=600,\n",
    "    random_seed=12,\n",
    "    verbose = 0\n",
    ").fit(train_set[train_features],\n",
    "      train_set['target'],\n",
    "      cat_features = cat_features)"
   ]
  },
  {
   "cell_type": "code",
   "execution_count": 10,
   "id": "b348b09e-0d75-409e-a344-a1f33c78410d",
   "metadata": {},
   "outputs": [],
   "source": [
    "val_set['predict'] = model.predict_proba(val_set[train_features])[:, 1]"
   ]
  },
  {
   "cell_type": "code",
   "execution_count": 11,
   "id": "2af23ab6-ddff-444e-9610-1e97ed5e6702",
   "metadata": {},
   "outputs": [
    {
     "data": {
      "text/plain": [
       "0.7018809056223073"
      ]
     },
     "execution_count": 11,
     "metadata": {},
     "output_type": "execute_result"
    }
   ],
   "source": [
    "roc_auc_score(val_set['target'], val_set['predict'])"
   ]
  },
  {
   "cell_type": "code",
   "execution_count": 12,
   "id": "46015f39-bda5-4bbd-932c-cfb1427c27ce",
   "metadata": {},
   "outputs": [],
   "source": [
    "score = val_set.groupby('msno').apply(\n",
    "    lambda x: (float('nan') if len(x) < 2 else\n",
    "               ndcg_score(x['target'].values.reshape(1, -1),\n",
    "                          x['predict'].values.reshape(1, -1)))\n",
    ").mean()"
   ]
  },
  {
   "cell_type": "code",
   "execution_count": 13,
   "id": "386bd6e2-36c8-4531-9eee-3f8ff336f176",
   "metadata": {},
   "outputs": [
    {
     "data": {
      "text/plain": [
       "0.7623454185951785"
      ]
     },
     "execution_count": 13,
     "metadata": {},
     "output_type": "execute_result"
    }
   ],
   "source": [
    "score"
   ]
  },
  {
   "cell_type": "code",
   "execution_count": 14,
   "id": "24dda747-8316-4c46-9331-d74a9460d09e",
   "metadata": {},
   "outputs": [],
   "source": [
    "sample_submission['target'] = model.predict_proba(test[train_features])[:, 1]"
   ]
  },
  {
   "cell_type": "code",
   "execution_count": 15,
   "id": "6894a100-d202-472f-9a10-f073ca9e17cb",
   "metadata": {},
   "outputs": [],
   "source": [
    "def save(df, start_index=1):\n",
    "    index = start_index\n",
    "    while os.path.exists(rf'../predictions/pred{index}.csv'):\n",
    "        index += 1\n",
    "    df.to_csv(rf'../predictions/pred{index}.csv', index=False)\n",
    "    return rf'../predictions/pred{index}.csv'"
   ]
  },
  {
   "cell_type": "code",
   "execution_count": 16,
   "id": "4fccdc5b-d830-4f11-9a03-313f4ba03a36",
   "metadata": {},
   "outputs": [
    {
     "data": {
      "text/plain": [
       "'../predictions/pred2.csv'"
      ]
     },
     "execution_count": 16,
     "metadata": {},
     "output_type": "execute_result"
    }
   ],
   "source": [
    "save(sample_submission)"
   ]
  },
  {
   "cell_type": "code",
   "execution_count": null,
   "id": "5bf841dd-e5d9-4827-8909-7eb1a56eac17",
   "metadata": {},
   "outputs": [],
   "source": []
  },
  {
   "cell_type": "code",
   "execution_count": null,
   "id": "758c05e8-2ec6-440c-8be5-70bf25211c66",
   "metadata": {},
   "outputs": [],
   "source": []
  },
  {
   "cell_type": "code",
   "execution_count": null,
   "id": "d03c0bb0-1af2-4676-bd2a-6bad88463d25",
   "metadata": {},
   "outputs": [],
   "source": []
  },
  {
   "cell_type": "code",
   "execution_count": null,
   "id": "fb1425a7-32c3-44a6-8376-373e8796369d",
   "metadata": {},
   "outputs": [],
   "source": []
  },
  {
   "cell_type": "code",
   "execution_count": null,
   "id": "bd73df5a-253d-479d-b65d-55c752fd4576",
   "metadata": {},
   "outputs": [],
   "source": []
  },
  {
   "cell_type": "code",
   "execution_count": null,
   "id": "f1fe7dfd-dd68-46ff-9fba-836da4b60879",
   "metadata": {},
   "outputs": [],
   "source": []
  },
  {
   "cell_type": "code",
   "execution_count": null,
   "id": "708606c1-c568-4664-91a1-c7c178d6f352",
   "metadata": {},
   "outputs": [],
   "source": []
  },
  {
   "cell_type": "code",
   "execution_count": null,
   "id": "a7d872dd-815b-4d89-963c-7f0618adc846",
   "metadata": {},
   "outputs": [],
   "source": []
  },
  {
   "cell_type": "code",
   "execution_count": null,
   "id": "0789fcdd-6b83-4be0-8613-dcfc46e13522",
   "metadata": {},
   "outputs": [],
   "source": []
  }
 ],
 "metadata": {
  "kernelspec": {
   "display_name": "Python 3 (ipykernel)",
   "language": "python",
   "name": "python3"
  },
  "language_info": {
   "codemirror_mode": {
    "name": "ipython",
    "version": 3
   },
   "file_extension": ".py",
   "mimetype": "text/x-python",
   "name": "python",
   "nbconvert_exporter": "python",
   "pygments_lexer": "ipython3",
   "version": "3.11.5"
  }
 },
 "nbformat": 4,
 "nbformat_minor": 5
}
